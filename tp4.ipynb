{
   "cells": [
      {
         "cell_type": "code",
         "execution_count": 1,
         "metadata": {
            "collapsed": true,
            "pycharm": {
               "name": "#%%\n"
            }
         },
         "outputs": [],
         "source": [
            "import cv2\n",
            "import matplotlib.pyplot as plt\n",
            "import numpy as np"
         ]
      },
      {
         "cell_type": "code",
         "execution_count": 2,
         "metadata": {
            "pycharm": {
               "name": "#%%\n"
            }
         },
         "outputs": [
            {
               "data": {
                  "text/plain": [
                     "array([[[ 66,  82,  64],\n",
                     "        [ 66,  82,  64],\n",
                     "        [ 67,  83,  65],\n",
                     "        ...,\n",
                     "        [ 72,  83,  67],\n",
                     "        [ 74,  85,  69],\n",
                     "        [ 73,  84,  68]],\n",
                     "\n",
                     "       [[ 67,  83,  65],\n",
                     "        [ 67,  83,  65],\n",
                     "        [ 66,  82,  64],\n",
                     "        ...,\n",
                     "        [ 73,  84,  68],\n",
                     "        [ 73,  84,  68],\n",
                     "        [ 73,  84,  68]],\n",
                     "\n",
                     "       [[ 66,  82,  64],\n",
                     "        [ 67,  83,  65],\n",
                     "        [ 67,  83,  65],\n",
                     "        ...,\n",
                     "        [ 73,  84,  68],\n",
                     "        [ 73,  84,  68],\n",
                     "        [ 73,  84,  68]],\n",
                     "\n",
                     "       ...,\n",
                     "\n",
                     "       [[194, 191, 207],\n",
                     "        [192, 189, 205],\n",
                     "        [190, 187, 203],\n",
                     "        ...,\n",
                     "        [ 54,  65,  57],\n",
                     "        [ 53,  64,  56],\n",
                     "        [ 54,  65,  57]],\n",
                     "\n",
                     "       [[195, 189, 206],\n",
                     "        [192, 186, 203],\n",
                     "        [189, 183, 200],\n",
                     "        ...,\n",
                     "        [ 53,  64,  56],\n",
                     "        [ 53,  64,  56],\n",
                     "        [ 53,  64,  56]],\n",
                     "\n",
                     "       [[193, 187, 204],\n",
                     "        [190, 184, 201],\n",
                     "        [187, 181, 198],\n",
                     "        ...,\n",
                     "        [ 55,  66,  58],\n",
                     "        [ 54,  65,  57],\n",
                     "        [ 52,  63,  55]]], dtype=uint8)"
                  ]
               },
               "execution_count": 2,
               "metadata": {},
               "output_type": "execute_result"
            }
         ],
         "source": [
            "img = cv2.imread(\"./bird.jpg\")\n",
            "img"
         ]
      },
      {
         "cell_type": "code",
         "execution_count": 3,
         "metadata": {
            "pycharm": {
               "name": "#%%\n"
            }
         },
         "outputs": [
            {
               "data": {
                  "image/png": "[encoded data removed]",
                  "text/plain": [
                     "<Figure size 432x288 with 1 Axes>"
                  ]
               },
               "metadata": {
                  "needs_background": "light"
               },
               "output_type": "display_data"
            }
         ],
         "source": [
            "# Calculate histograms\n",
            "hist_red = cv2.calcHist([img], [0], None, [256], [0, 256])\n",
            "hist_green = cv2.calcHist([img], [1], None, [256], [0, 256])\n",
            "hist_blue = cv2.calcHist([img], [2], None, [256], [0, 256])\n",
            "\n",
            "plt.plot(hist_red, color='r')\n",
            "plt.plot(hist_green, color='g')\n",
            "plt.plot(hist_blue, color='b')\n",
            "plt.xlim([0, 256])\n",
            "plt.show()"
         ]
      },
      {
         "cell_type": "code",
         "execution_count": 4,
         "metadata": {
            "pycharm": {
               "name": "#%%\n"
            }
         },
         "outputs": [
            {
               "data": {
                  "text/plain": [
                     "106"
                  ]
               },
               "execution_count": 4,
               "metadata": {},
               "output_type": "execute_result"
            }
         ],
         "source": [
            "def class_average(cl, start, end):\n",
            "    niv = np.arange(start, end)\n",
            "    return np.sum(cl * niv) / np.sum(cl)\n",
            "\n",
            "def get_variance(hist, s):\n",
            "    c0 = hist[:s]\n",
            "    c1 = hist[s:]\n",
            "    pc0 = np.sum(c0) / np.sum(hist)\n",
            "    pc1 = np.sum(c1) / np.sum(hist)\n",
            "    m = class_average(hist, 0, 255)\n",
            "    m0 = class_average(c0, 0, s)\n",
            "    m1 = class_average(c1, s, 255)\n",
            "    return pc0 * (m0 - m)**2 + pc1 * (m1 - m)**2\n",
            "\n",
            "def otsu_thresholding(hist):\n",
            "    max_variance = 0\n",
            "    seuil = 0\n",
            "    for s in range(1, 254):\n",
            "        variance = get_variance(hist, s)\n",
            "        if variance > max_variance:\n",
            "            max_variance = variance\n",
            "            seuil = s\n",
            "    return seuil\n",
            "\n",
            "otsu_thresholding(hist_blue)"
         ]
      },
      {
         "cell_type": "code",
         "execution_count": 5,
         "metadata": {
            "pycharm": {
               "name": "#%%\n"
            }
         },
         "outputs": [
            {
               "data": {
                  "text/plain": [
                     "106"
                  ]
               },
               "execution_count": 5,
               "metadata": {},
               "output_type": "execute_result"
            }
         ],
         "source": [
            "def class_average(cl, start, end):\n",
            "    niv = np.arange(start, end)\n",
            "    return np.sum(cl * niv) / np.sum(cl)\n",
            "\n",
            "def get_variance(hist, s):\n",
            "    c0 = hist[:s]\n",
            "    c1 = hist[s:]\n",
            "    pc0 = np.sum(c0) / np.sum(hist)\n",
            "    pc1 = np.sum(c1) / np.sum(hist)\n",
            "    m = class_average(hist, 0, 255)\n",
            "    m0 = class_average(c0, 0, s)\n",
            "    m1 = class_average(c1, s, 255)\n",
            "    return pc0 * (m0 - m)**2 + pc1 * (m1 - m)**2\n",
            "\n",
            "def otsu_thresholding(hist):\n",
            "    max_variance = 0\n",
            "    seuil = 0\n",
            "    for s in range(1, 254):\n",
            "        variance = get_variance(hist, s)\n",
            "        if variance > max_variance:\n",
            "            max_variance = variance\n",
            "            seuil = s\n",
            "    return seuil\n",
            "\n",
            "otsu_thresholding(hist_blue)"
         ]
      },
      {
         "cell_type": "code",
         "execution_count": 5,
         "metadata": {
            "pycharm": {
               "name": "#%%\n"
            }
         },
         "outputs": [],
         "source": []
      }
   ],
   "metadata": {
      "kernelspec": {
         "display_name": "Python 3 (ipykernel)",
         "language": "python",
         "name": "python3"
      },
      "language_info": {
         "codemirror_mode": {
            "name": "ipython",
            "version": 3
         },
         "file_extension": ".py",
         "mimetype": "text/x-python",
         "name": "python",
         "nbconvert_exporter": "python",
         "pygments_lexer": "ipython3",
         "version": "3.10.4"
      }
   },
   "nbformat": 4,
   "nbformat_minor": 1
}