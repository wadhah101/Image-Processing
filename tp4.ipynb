{
 "cells": [
  {
   "cell_type": "code",
   "execution_count": 1,
   "metadata": {
    "collapsed": true
   },
   "outputs": [],
   "source": [
    "import cv2\n",
    "import matplotlib.pyplot as plt\n",
    "import numpy as np"
   ]
  },
  {
   "cell_type": "code",
   "execution_count": 5,
   "outputs": [
    {
     "data": {
      "text/plain": "array([[[ 66,  82,  64],\n        [ 66,  82,  64],\n        [ 67,  83,  65],\n        ...,\n        [ 72,  83,  67],\n        [ 74,  85,  69],\n        [ 73,  84,  68]],\n\n       [[ 67,  83,  65],\n        [ 67,  83,  65],\n        [ 66,  82,  64],\n        ...,\n        [ 73,  84,  68],\n        [ 73,  84,  68],\n        [ 73,  84,  68]],\n\n       [[ 66,  82,  64],\n        [ 67,  83,  65],\n        [ 67,  83,  65],\n        ...,\n        [ 73,  84,  68],\n        [ 73,  84,  68],\n        [ 73,  84,  68]],\n\n       ...,\n\n       [[194, 191, 207],\n        [192, 189, 205],\n        [190, 187, 203],\n        ...,\n        [ 54,  65,  57],\n        [ 53,  64,  56],\n        [ 54,  65,  57]],\n\n       [[195, 189, 206],\n        [192, 186, 203],\n        [189, 183, 200],\n        ...,\n        [ 53,  64,  56],\n        [ 53,  64,  56],\n        [ 53,  64,  56]],\n\n       [[193, 187, 204],\n        [190, 184, 201],\n        [187, 181, 198],\n        ...,\n        [ 55,  66,  58],\n        [ 54,  65,  57],\n        [ 52,  63,  55]]], dtype=uint8)"
     },
     "execution_count": 5,
     "metadata": {},
     "output_type": "execute_result"
    }
   ],
   "source": [
    "img = cv2.imread(\"./bird.jpg\")\n",
    "img"
   ],
   "metadata": {
    "collapsed": false,
    "pycharm": {
     "name": "#%%\n"
    }
   }
  },
  {
   "cell_type": "code",
   "execution_count": null,
   "outputs": [],
   "source": [
    "# Calculate histograms\n",
    "hist_red = cv2.calcHist([img],[0],None,[256],[0,256])\n",
    "hist_green = cv2.calcHist([img],[1],None,[256],[0,256])\n",
    "hist_vlue = cv2.calcHist([img],[2],None,[256],[0,256])"
   ],
   "metadata": {
    "collapsed": false,
    "pycharm": {
     "name": "#%%\n"
    }
   }
  }
 ],
 "metadata": {
  "kernelspec": {
   "display_name": "Python 3",
   "language": "python",
   "name": "python3"
  },
  "language_info": {
   "codemirror_mode": {
    "name": "ipython",
    "version": 2
   },
   "file_extension": ".py",
   "mimetype": "text/x-python",
   "name": "python",
   "nbconvert_exporter": "python",
   "pygments_lexer": "ipython2",
   "version": "2.7.6"
  }
 },
 "nbformat": 4,
 "nbformat_minor": 0
}